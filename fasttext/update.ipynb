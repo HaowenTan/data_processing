{
 "cells": [
  {
   "cell_type": "markdown",
   "id": "bea2e22e",
   "metadata": {},
   "source": [
    "# 对数学文本更细致地划分"
   ]
  },
  {
   "cell_type": "markdown",
   "id": "f88473fb",
   "metadata": {},
   "source": []
  },
  {
   "cell_type": "code",
   "execution_count": null,
   "id": "302c0525",
   "metadata": {},
   "outputs": [],
   "source": [
    "import pandas as pd\n",
    "import json\n",
    "import re\n",
    "import csv\n",
    "from tqdm import tqdm\n",
    "import os"
   ]
  },
  {
   "cell_type": "code",
   "execution_count": null,
   "id": "22587701",
   "metadata": {},
   "outputs": [],
   "source": [
    "def clean_text(text):\n",
    "    if not isinstance(text, str):\n",
    "        return \"\"\n",
    "    text = re.sub(r'\\n+', ' ', text)\n",
    "    text = re.sub(r'\\s+', ' ', text)\n",
    "    text = text.replace('\\uFFFD', '')\n",
    "    text = re.sub(r'https?://\\S+|www\\.\\S+', '', text)\n",
    "    text = re.sub(r'`{3}.*?`{3}', '', text, flags=re.DOTALL)\n",
    "    text = re.sub(r'#+\\s*', '', text)\n",
    "    text = re.sub(r'[\\u200e\\u200f\\u202a-\\u202e]', '', text)\n",
    "    return text.strip()"
   ]
  },
  {
   "cell_type": "code",
   "execution_count": null,
   "id": "e0e7f6e1",
   "metadata": {},
   "outputs": [],
   "source": [
    "def process_metadata(metadata_obj):\n",
    "    try:\n",
    "        if isinstance(metadata_obj, dict):\n",
    "            metadata = metadata_obj\n",
    "        elif isinstance(metadata_obj, str):\n",
    "            metadata = json.loads(metadata_obj.replace(\"'\", \"\\\"\"))\n",
    "        else:\n",
    "            return False\n",
    "        return metadata.get(\"extraction_info\", {}).get(\"found_math\", False)\n",
    "    except:\n",
    "        return False\n"
   ]
  },
  {
   "cell_type": "code",
   "execution_count": null,
   "id": "a99685ef",
   "metadata": {},
   "outputs": [],
   "source": [
    "def convert_multiple_to_fasttext(\n",
    "    metadata_file,          # 含有 metadata 字段的 parquet 路径\n",
    "    other_files,            # 其他无 metadata 的 parquet 路径列表\n",
    "    output_path,            # fastText 输出路径\n",
    "    metadata_sample=5000,   # metadata 文件采样条数\n",
    "    other_sample=5000       # 每个非 metadata 文件采样条数\n",
    "):\n",
    "    # 处理 metadata 文件\n",
    "    print(f\"正在处理带 metadata 的文件：{metadata_file}\")\n",
    "    df_meta = pd.read_parquet(metadata_file).sample(metadata_sample, random_state=42)\n",
    "    df_meta = df_meta.dropna(subset=['text', 'metadata'])\n",
    "    df_meta[\"label\"] = df_meta[\"metadata\"].apply(process_metadata).apply(\n",
    "        lambda x: \"__label__math\" if x else \"__label__non_math\"\n",
    "    )\n",
    "    df_meta[\"clean_text\"] = df_meta[\"text\"].apply(clean_text)\n",
    "\n",
    "    all_dfs = [df_meta[[\"label\", \"clean_text\"]]]\n",
    "\n",
    "    # 处理其他非 metadata 文件\n",
    "    for f in other_files:\n",
    "        print(f\"正在处理非 metadata 文件：{f}\")\n",
    "        df = pd.read_parquet(f).sample(other_sample, random_state=42)\n",
    "        df = df.dropna(subset=['text'])\n",
    "        df[\"label\"] = \"__label__non_math\"\n",
    "        df[\"clean_text\"] = df[\"text\"].apply(clean_text)\n",
    "        all_dfs.append(df[[\"label\", \"clean_text\"]])\n",
    "\n",
    "    # 合并所有数据\n",
    "    combined_df = pd.concat(all_dfs, ignore_index=True)\n",
    "    combined_df = combined_df[combined_df[\"clean_text\"].str.strip() != \"\"]  # 去除空行\n",
    "\n",
    "    # 写入 fastText 文件\n",
    "    with open(output_path, 'w', encoding='utf-8') as f:\n",
    "        for _, row in tqdm(combined_df.iterrows(), total=len(combined_df)):\n",
    "            f.write(f\"{row['label']} {row['clean_text']}\\n\")\n",
    "\n",
    "    # 打印统计信息\n",
    "    math_count = (combined_df[\"label\"] == \"__label__math\").sum()\n",
    "    non_math_count = (combined_df[\"label\"] == \"__label__non_math\").sum()\n",
    "    print(f\"\\n✅ 已生成 fastText 训练文件: {output_path}\")\n",
    "    print(f\"标签分布：数学样本 {math_count}，非数学样本 {non_math_count}\")\n"
   ]
  },
  {
   "cell_type": "code",
   "execution_count": null,
   "id": "754173c5",
   "metadata": {},
   "outputs": [],
   "source": [
    "convert_multiple_to_fasttext(\n",
    "    metadata_file=\"train-00000-of-00114-5a023365406cb9c4.parquet\",\n",
    "    other_files=[\n",
    "        \"000_00000.parquet\",\n",
    "    ],\n",
    "    output_path=\"combined_fasttext.txt\",\n",
    "    metadata_sample=40000,\n",
    "    other_sample=30000\n",
    ")\n"
   ]
  },
  {
   "cell_type": "markdown",
   "id": "1b7fb38e",
   "metadata": {},
   "source": [
    "# 训练模型"
   ]
  },
  {
   "cell_type": "code",
   "execution_count": null,
   "id": "6ec52947",
   "metadata": {},
   "outputs": [],
   "source": [
    "import fasttext\n",
    "\n",
    "# 训练模型\n",
    "model = fasttext.train_supervised(\n",
    "    input=\"combined_fasttext.txt\",  # 你的训练数据路径\n",
    "    epoch=10,          # 训练轮数，可根据数据大小调整\n",
    "    lr=1.0,            # 学习率\n",
    "    wordNgrams=2,      # 使用2-gram特征，提升性能\n",
    "    verbose=2,         \n",
    "    minCount=1         # 保留所有词语（小数据建议设为1）\n",
    ")\n",
    "\n",
    "# 保存模型\n",
    "model.save_model(\"fasttext_math_pro_classifier.bin\")\n"
   ]
  },
  {
   "cell_type": "code",
   "execution_count": null,
   "id": "a70f25d6",
   "metadata": {},
   "outputs": [],
   "source": [
    "result = model.test(\"combined_fasttext.txt\")\n",
    "print(f\"测试样本数: {result[0]}\")\n",
    "print(f\"准确率: {result[1]:.4f}\")\n",
    "print(f\"召回率: {result[2]:.4f}\")\n"
   ]
  },
  {
   "cell_type": "code",
   "execution_count": null,
   "id": "013b9d63",
   "metadata": {},
   "outputs": [],
   "source": [
    "from sklearn.metrics import roc_auc_score\n",
    "import fasttext\n",
    "\n",
    "y_true = []\n",
    "y_score = []\n",
    "\n",
    "with open(\"combined_fasttext.txt\", \"r\", encoding=\"utf-8\") as f:\n",
    "    for line in f:\n",
    "        label = line.split()[0].replace(\"__label__\", \"\")\n",
    "        text = \" \".join(line.split()[1:])\n",
    "        pred_label, pred_prob = model.predict(text, k=1)\n",
    "        \n",
    "        # 真实标签（math 为 1，non_math 为 0）\n",
    "        y_true.append(1 if label == \"math\" else 0)\n",
    "        \n",
    "        # 预测为 \"math\" 的概率\n",
    "        if pred_label[0] == \"__label__math\":\n",
    "            y_score.append(pred_prob[0])\n",
    "        else:\n",
    "            y_score.append(1 - pred_prob[0])  # 非math的置信度取反\n",
    "auc = roc_auc_score(y_true, y_score)\n",
    "print(f\"AUC: {auc:.4f}\")\n"
   ]
  },
  {
   "cell_type": "code",
   "execution_count": null,
   "id": "21c542d4",
   "metadata": {},
   "outputs": [],
   "source": [
    "import fasttext\n",
    "from collections import Counter\n",
    "\n",
    "# ======== 配置区域 ========\n",
    "model_path = \"fasttext_math_pro_classifier.bin\"            # 你的 fastText 模型路径\n",
    "txt_path = \"labeled_nonmath_test.txt\"                # 每行一条网页文本\n",
    "sample_size = 10000                      # 设置为 None 表示处理全部行\n",
    "# ==========================\n",
    "\n",
    "# 1. 加载模型\n",
    "model = fasttext.load_model(model_path)\n",
    "\n",
    "# 2. 读取文本数据（每行一条）\n",
    "with open(txt_path, 'r', encoding='utf-8') as f:\n",
    "    lines = [line.strip() for line in f if line.strip()]\n",
    "\n",
    "# 3. 抽样（如需要）\n",
    "if sample_size:\n",
    "    import random\n",
    "    random.seed(42)\n",
    "    lines = random.sample(lines, min(sample_size, len(lines)))\n",
    "\n",
    "# 4. 预测标签\n",
    "labels = []\n",
    "for line in lines:\n",
    "    label, prob = model.predict(line)\n",
    "    labels.append(label[0])\n",
    "\n",
    "# 5. 统计标签数量\n",
    "label_counts = Counter(labels)\n",
    "\n",
    "print(\"✅ fastText 分类统计结果：\")\n",
    "for label, count in label_counts.items():\n",
    "    print(f\"{label}: {count} 条\")\n"
   ]
  },
  {
   "cell_type": "code",
   "execution_count": null,
   "id": "fbf85c74",
   "metadata": {},
   "outputs": [],
   "source": [
    "# 假设 lines 是原始文本列表\n",
    "predictions = []\n",
    "for line in lines:\n",
    "    label, prob = model.predict(line)\n",
    "    if prob[0] < 0.85:\n",
    "        label = \"__label__non_math\"  # 或设为 uncertain\n",
    "\n",
    "    predictions.append((line, label[0]))\n",
    "\n",
    "# 仅保留模型预测为 __label__math 的文本\n",
    "math_texts = [line for line, label in predictions if label == \"__label__math\"]\n",
    "\n",
    "# 打印出来\n",
    "print(f\"\\n✅ 模型预测为 __label__math 的文本，共 {len(math_texts)} 条：\\n\")\n",
    "for i, line in enumerate(math_texts, 1):\n",
    "    print(f\"{i}. {line}\")\n"
   ]
  }
 ],
 "metadata": {
  "kernelspec": {
   "display_name": "fasttext_env",
   "language": "python",
   "name": "python3"
  },
  "language_info": {
   "codemirror_mode": {
    "name": "ipython",
    "version": 3
   },
   "file_extension": ".py",
   "mimetype": "text/x-python",
   "name": "python",
   "nbconvert_exporter": "python",
   "pygments_lexer": "ipython3",
   "version": "3.10.18"
  }
 },
 "nbformat": 4,
 "nbformat_minor": 5
}
