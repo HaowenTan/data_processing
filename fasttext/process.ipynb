{
 "cells": [
  {
   "cell_type": "markdown",
   "id": "52c197d7",
   "metadata": {},
   "source": [
    "# 配置环境"
   ]
  },
  {
   "cell_type": "code",
   "execution_count": null,
   "id": "f724e0db",
   "metadata": {},
   "outputs": [],
   "source": [
    "#!conda create -n fasttext python"
   ]
  },
  {
   "cell_type": "code",
   "execution_count": null,
   "id": "acb275de",
   "metadata": {},
   "outputs": [],
   "source": [
    "!pip install datasets #连不上huggingface就不用装了"
   ]
  },
  {
   "cell_type": "code",
   "execution_count": null,
   "id": "9d08af4e",
   "metadata": {},
   "outputs": [],
   "source": [
    "!pip install -r requirements.txt"
   ]
  },
  {
   "cell_type": "code",
   "execution_count": null,
   "id": "b92aa972",
   "metadata": {},
   "outputs": [],
   "source": [
    "!pip install pandas pyarrow"
   ]
  },
  {
   "cell_type": "code",
   "execution_count": null,
   "id": "7fdc0e38",
   "metadata": {},
   "outputs": [],
   "source": [
    "# 安装huggingface_hub工具包\n",
    "!pip install huggingface_hub\n",
    "\n",
    "# 设置镜像环境变量（国内推荐清华镜像）\n",
    "!export HF_ENDPOINT=https://hf-mirror.com"
   ]
  },
  {
   "cell_type": "code",
   "execution_count": null,
   "id": "9b8fa0f7",
   "metadata": {},
   "outputs": [],
   "source": [
    "!pip install fasttext"
   ]
  },
  {
   "cell_type": "markdown",
   "id": "9656c552",
   "metadata": {},
   "source": [
    "# 下载数据"
   ]
  },
  {
   "cell_type": "code",
   "execution_count": null,
   "id": "0ca7d120",
   "metadata": {},
   "outputs": [],
   "source": [
    "from datasets import load_dataset\n",
    "import os\n",
    "\n",
    "os.environ['HF_ENDPOINT'] = 'https://hf-mirror.com'\n",
    "\n",
    "# 使用流式模式避免完整下载\n",
    "math_data = load_dataset(\n",
    "    \"open-web-math/open-web-math\",\n",
    "    split=\"train\",\n",
    "    streaming=True\n",
    ").take(5000)  # 只取前5000条\n",
    "\n",
    "fineweb_data = load_dataset(\n",
    "    \"HuggingFaceFW/fineweb\",\n",
    "    split=\"train\",\n",
    "    streaming=True\n",
    ").take(5000)"
   ]
  },
  {
   "cell_type": "markdown",
   "id": "258b4331",
   "metadata": {},
   "source": [
    "下载出错，手动导入"
   ]
  },
  {
   "cell_type": "code",
   "execution_count": null,
   "id": "84c13c69",
   "metadata": {},
   "outputs": [],
   "source": [
    "import pandas as pd\n",
    "import json\n",
    "import re"
   ]
  },
  {
   "cell_type": "code",
   "execution_count": null,
   "id": "82a58849",
   "metadata": {},
   "outputs": [],
   "source": [
    "def clean_text(text):\n",
    "    \"\"\"清理文本中的特殊字符和多余空格\"\"\"\n",
    "    # 移除换行符和连续空格\n",
    "    text = re.sub(r'\\n+', ' ', text)\n",
    "    text = re.sub(r'\\s+', ' ', text)\n",
    "    #清理乱码\n",
    "    text = text.replace('\\uFFFD', '')\n",
    "    # 移除URL链接\n",
    "    text = re.sub(r'https?://\\S+|www\\.\\S+', '', text)\n",
    "    # 移除代码块标记（如```）\n",
    "    text = re.sub(r'`{3}.*?`{3}', '', text, flags=re.DOTALL)\n",
    "    # 移除Markdown标题符号\n",
    "    text = re.sub(r'#+\\s*', '', text)\n",
    "    # 移除 Unicode 控制字符（如 U+200E）\n",
    "    text = re.sub(r'[\\u200e\\u200f\\u202a-\\u202e]', '', text)\n",
    "\n",
    "    return text.strip()"
   ]
  },
  {
   "cell_type": "code",
   "execution_count": null,
   "id": "b2c627c4",
   "metadata": {},
   "outputs": [],
   "source": [
    "import csv\n",
    "from sklearn.model_selection import train_test_split\n",
    "def generate_labeled_train_test_set(parquet_path, train_path, test_path,\n",
    "                                    label=\"__label__non_math\", sample_size=1000, test_ratio=0.2):\n",
    "    # 加载数据\n",
    "    df = pd.read_parquet(parquet_path).sample(sample_size, random_state=42)\n",
    "    df[\"text\"] = df[\"text\"].apply(clean_text)\n",
    "    df[\"label\"] = label\n",
    "    df[\"fasttext\"] = df[\"text\"]\n",
    "\n",
    "    # 划分训练和测试\n",
    "    train_df, test_df = train_test_split(df[\"fasttext\"], test_size=test_ratio, random_state=42)\n",
    "\n",
    "    # 保存\n",
    "    train_df.to_csv(train_path, index=False, header=False, quoting=csv.QUOTE_NONE,escapechar='\\\\')\n",
    "    test_df.to_csv(test_path, index=False, header=False, quoting=csv.QUOTE_NONE,escapechar='\\\\')\n",
    "\n",
    "    print(f\"打标数据集生成完毕：\")\n",
    "    print(f\"训练集（{len(train_df)} 条）已保存到：{train_path}\")\n",
    "    print(f\"测试集（{len(test_df)} 条）已保存到：{test_path}\")"
   ]
  },
  {
   "cell_type": "code",
   "execution_count": null,
   "id": "7c07102e",
   "metadata": {},
   "outputs": [],
   "source": [
    "generate_labeled_train_test_set(\n",
    "    parquet_path=\"000_00000.parquet\",\n",
    "    train_path=\"nonmath_train.txt\",\n",
    "    test_path=\"nonmath_test.txt\",\n",
    "    label=\"__label__non_math\",  # or \"__label__math\"\n",
    "    sample_size=25000,\n",
    "    test_ratio=0.2\n",
    ")\n"
   ]
  },
  {
   "cell_type": "code",
   "execution_count": null,
   "id": "ef88cda2",
   "metadata": {},
   "outputs": [],
   "source": [
    "def initial_labeling(math_path, non_math_path, output_path, sample_size=5000):\n",
    "    # 加载并打乱采样\n",
    "    math_df = pd.read_parquet(math_path).sample(sample_size, random_state=42)\n",
    "    non_math_df = pd.read_parquet(non_math_path).sample(sample_size, random_state=42)\n",
    "\n",
    "    # 添加标签\n",
    "    math_df[\"label\"] = \"__label__math\"\n",
    "    non_math_df[\"label\"] = \"__label__non_math\"\n",
    "\n",
    "    # 清洗文本\n",
    "    math_df[\"text\"] = math_df[\"text\"].apply(clean_text)\n",
    "    non_math_df[\"text\"] = non_math_df[\"text\"].apply(clean_text)\n",
    "\n",
    "    # 合并并转为 fastText 格式\n",
    "    combined_df = pd.concat([math_df, non_math_df])\n",
    "    combined_df[\"fasttext_format\"] = combined_df[\"label\"] + \" \" + combined_df[\"text\"]\n",
    "\n",
    "    # 保存\n",
    "    combined_df[\"fasttext_format\"].to_csv(output_path, index=False, header=False, quoting=csv.QUOTE_NONE,escapechar='\\\\')\n",
    "\n",
    "    print(f\"初始粗打标完成！数学样本: {len(math_df)}, 非数学样本: {len(non_math_df)}\")\n",
    "    print(f\"已保存到: {output_path}\")"
   ]
  },
  {
   "cell_type": "code",
   "execution_count": null,
   "id": "2d1b091a",
   "metadata": {},
   "outputs": [],
   "source": [
    "# 使用示例\n",
    "initial_labeling(\n",
    "    math_path=\"train-00000-of-00114-5a023365406cb9c4.parquet\",\n",
    "    non_math_path=\"000_00000.parquet\",\n",
    "    output_path=\"fasttext_train_rough.txt\",\n",
    "    sample_size=50000\n",
    ")"
   ]
  },
  {
   "cell_type": "code",
   "execution_count": null,
   "id": "6a55c7d0",
   "metadata": {},
   "outputs": [],
   "source": [
    "def generate_fineweb_test_set(parquet_path, output_path, exclude_path, test_size=5000):\n",
    "    df = pd.read_parquet(parquet_path)\n",
    "    df[\"text\"] = df[\"text\"].apply(clean_text)\n",
    "\n",
    "    # 加载排除列表\n",
    "    with open(exclude_path, \"r\", encoding=\"utf-8\") as f:\n",
    "        exclude_texts = set(line.strip() for line in f)\n",
    "\n",
    "    # 筛选不重复的数据\n",
    "    df = df[~df[\"text\"].isin(exclude_texts)]\n",
    "\n",
    "    # 抽样测试数据\n",
    "    df = df.sample(test_size, random_state=42)\n",
    "\n",
    "    # 保存\n",
    "    df.to_csv(output_path, index=False, header=False, quoting=csv.QUOTE_NONE, escapechar='\\\\')\n",
    "\n",
    "    print(f\"✅ 生成测试集 {len(df)} 条（未与训练集重复）\")"
   ]
  },
  {
   "cell_type": "code",
   "execution_count": null,
   "id": "9aa99897",
   "metadata": {},
   "outputs": [],
   "source": [
    "generate_fineweb_test_set(\n",
    "    parquet_path='000_00000.parquet',\n",
    "    output_path='fasttext_text.txt',\n",
    "    exclude_path='fasttext_train_rough.txt',\n",
    ")"
   ]
  },
  {
   "cell_type": "markdown",
   "id": "07e486df",
   "metadata": {},
   "source": [
    "# 模型训练"
   ]
  },
  {
   "cell_type": "code",
   "execution_count": null,
   "id": "89552208",
   "metadata": {},
   "outputs": [],
   "source": [
    "import fasttext\n",
    "\n",
    "# 训练模型\n",
    "model = fasttext.train_supervised(\n",
    "    input=\"fasttext_train_rough.txt\",  # 你的训练数据路径\n",
    "    epoch=10,          # 训练轮数，可根据数据大小调整\n",
    "    lr=1.0,            # 学习率\n",
    "    wordNgrams=2,      # 使用2-gram特征，提升性能\n",
    "    verbose=2,         \n",
    "    minCount=1         # 保留所有词语（小数据建议设为1）\n",
    ")\n",
    "\n",
    "# 保存模型\n",
    "model.save_model(\"fasttext_math_classifier.bin\")\n"
   ]
  },
  {
   "cell_type": "code",
   "execution_count": null,
   "id": "7087d8ea",
   "metadata": {},
   "outputs": [],
   "source": [
    "result = model.test(\"labeled_nonmath_test.txt\")\n",
    "print(f\"测试样本数: {result[0]}\")\n",
    "print(f\"准确率: {result[1]:.4f}\")\n",
    "print(f\"召回率: {result[2]:.4f}\")\n"
   ]
  },
  {
   "cell_type": "markdown",
   "id": "fdcace59",
   "metadata": {},
   "source": [
    "# 预测"
   ]
  },
  {
   "cell_type": "code",
   "execution_count": null,
   "id": "ae8d76ad",
   "metadata": {},
   "outputs": [],
   "source": [
    "pip install numpy==1.24.4 --force-reinstall"
   ]
  },
  {
   "cell_type": "code",
   "execution_count": null,
   "id": "1ea9ce1c",
   "metadata": {},
   "outputs": [],
   "source": [
    "import numpy as np\n",
    "print(np.__version__)"
   ]
  },
  {
   "cell_type": "code",
   "execution_count": null,
   "id": "35145e17",
   "metadata": {},
   "outputs": [],
   "source": [
    "import fasttext\n",
    "from collections import Counter\n",
    "\n",
    "# ======== 配置区域 ========\n",
    "model_path = \"fasttext_math_classifier.bin\"            # 你的 fastText 模型路径\n",
    "txt_path = \"labeled_nonmath_test.txt\"                # 每行一条网页文本\n",
    "sample_size = 10000                      # 设置为 None 表示处理全部行\n",
    "# ==========================\n",
    "\n",
    "# 1. 加载模型\n",
    "model = fasttext.load_model(model_path)\n",
    "\n",
    "# 2. 读取文本数据（每行一条）\n",
    "with open(txt_path, 'r', encoding='utf-8') as f:\n",
    "    lines = [line.strip() for line in f if line.strip()]\n",
    "\n",
    "# 3. 抽样（如需要）\n",
    "if sample_size:\n",
    "    import random\n",
    "    random.seed(42)\n",
    "    lines = random.sample(lines, min(sample_size, len(lines)))\n",
    "\n",
    "# 4. 预测标签\n",
    "labels = []\n",
    "for line in lines:\n",
    "    label, prob = model.predict(line)\n",
    "    labels.append(label[0])\n",
    "\n",
    "# 5. 统计标签数量\n",
    "label_counts = Counter(labels)\n",
    "\n",
    "print(\"✅ fastText 分类统计结果：\")\n",
    "for label, count in label_counts.items():\n",
    "    print(f\"{label}: {count} 条\")\n"
   ]
  },
  {
   "cell_type": "code",
   "execution_count": null,
   "id": "2d205733",
   "metadata": {},
   "outputs": [],
   "source": [
    "model_path = \"fasttext_math_classifier.bin\"       \n",
    "txt_path = \"'fasttext_text.txt'\"      \n",
    "sample_size = 5000      \n",
    "model = fasttext.load_model(model_path)\n",
    "with open(txt_path, 'r', encoding='utf-8') as f:\n",
    "    lines = [line.strip() for line in f if line.strip()]\n",
    "predictions = []\n",
    "for line in lines:\n",
    "    label, prob = model.predict(line)\n",
    "    predictions.append((line, label[0]))\n",
    "\n",
    "# 仅保留模型预测为 __label__math 的文本\n",
    "math_texts = [line for line, label in predictions if label == \"__label__math\"]\n",
    "\n",
    "# 打印出来\n",
    "print(f\"\\n✅ 模型预测为 __label__math 的文本，共 {len(math_texts)} 条：\\n\")\n",
    "for i, line in enumerate(math_texts, 1):\n",
    "    print(f\"{i}. {line}\")\n"
   ]
  },
  {
   "cell_type": "code",
   "execution_count": null,
   "id": "d489346b",
   "metadata": {},
   "outputs": [],
   "source": [
    "# 假设你已有 lines 和 labels（或 label list）\n",
    "# lines 是文本列表，labels 是模型预测的标签列表\n",
    "\n",
    "output_path = \"predicted_labeled_output.txt\"\n",
    "\n",
    "with open(output_path, \"w\", encoding=\"utf-8\") as f:\n",
    "    for label, line in zip(labels, lines):\n",
    "        f.write(f\"{label}\\t{line.strip()}\\n\")\n",
    "\n",
    "print(f\"已保存结果到: {output_path}\")\n"
   ]
  },
  {
   "cell_type": "code",
   "execution_count": null,
   "id": "260a9604",
   "metadata": {},
   "outputs": [],
   "source": []
  }
 ],
 "metadata": {
  "kernelspec": {
   "display_name": "fasttext_env",
   "language": "python",
   "name": "python3"
  },
  "language_info": {
   "codemirror_mode": {
    "name": "ipython",
    "version": 3
   },
   "file_extension": ".py",
   "mimetype": "text/x-python",
   "name": "python",
   "nbconvert_exporter": "python",
   "pygments_lexer": "ipython3",
   "version": "3.10.18"
  }
 },
 "nbformat": 4,
 "nbformat_minor": 5
}
